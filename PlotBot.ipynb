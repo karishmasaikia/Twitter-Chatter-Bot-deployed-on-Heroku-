{
 "cells": [
  {
   "cell_type": "code",
   "execution_count": 10,
   "metadata": {},
   "outputs": [],
   "source": [
    "# Dependencies\n",
    "import tweepy\n",
    "import numpy as np\n",
    "import pandas as pd\n",
    "import matplotlib.pyplot as plt\n",
    "import time\n",
    "from datetime import datetime\n",
    "import matplotlib\n",
    "from vaderSentiment.vaderSentiment import SentimentIntensityAnalyzer\n",
    "analyzer = SentimentIntensityAnalyzer()"
   ]
  },
  {
   "cell_type": "code",
   "execution_count": 11,
   "metadata": {},
   "outputs": [],
   "source": [
    "consumer_key = \"EJIuSEcMCdhvIZ7iaXQYbjLUY\"\n",
    "consumer_secret = \"Cdxt84aPBXQFmKL5ZEwOC5MquM4BvzfqSk7gjMzRe4X15rviFw\"\n",
    "access_token = \"983862551497723904-ClTOfKgpd9Gc5nhfYL61fc9ssKvZLhS\"\n",
    "access_token_secret = \"7GhbOxlludczquMzYANZm2gDvMIHLfa09tnMf9sdD9gZy\""
   ]
  },
  {
   "cell_type": "code",
   "execution_count": 12,
   "metadata": {},
   "outputs": [],
   "source": [
    "auth = tweepy.OAuthHandler(consumer_key, consumer_secret)\n",
    "auth.set_access_token(access_token, access_token_secret)\n",
    "api = tweepy.API(auth,parser=tweepy.parsers.JSONParser())"
   ]
  },
  {
   "cell_type": "code",
   "execution_count": 24,
   "metadata": {},
   "outputs": [],
   "source": [
    "lang = \"en\"\n",
    "target=\"PlotBot Analyze\"\n",
    "#tuple to hold to stop repeating\n",
    "Tuple_screenname_tweettarget=[]\n",
    "\n",
    "\n",
    "def sentiment_analyse():\n",
    "    appended_results=[]\n",
    "    counter=-1\n",
    "    oldest_tweet=None\n",
    "    \n",
    "    \n",
    "    \n",
    "    #count=1, it returns only one search\n",
    "    public_tweets = api.search(target, count=1,result_type=\"recent\")\n",
    "    for tweet in public_tweets['statuses']:\n",
    "        \n",
    "        print(tweet)\n",
    "        tweet_id = tweet[\"id\"]\n",
    "        tweet_author=tweet['user']['screen_name'] \n",
    "        raw_text=tweet[\"text\"]\n",
    "        raw_text_split=raw_text.split(\":\")\n",
    "        keyword_to_analyze=raw_text_split[1]\n",
    "        \n",
    "        if (tweet_author,keyword_to_analyze) not in Tuple_screenname_tweettarget:\n",
    "            \n",
    "            Tuple_screenname_tweettarget_tuple=(tweet_author,keyword_to_analyze )\n",
    "            Tuple_screenname_tweettarget.append(Tuple_screenname_tweettarget_tuple)\n",
    "            \n",
    "            for x in range(5):\n",
    "                tweets_keyword = api.search(keyword_to_analyze, max_id=oldest_tweet,count=100,lang=lang)\n",
    "            \n",
    "                for tweet_1 in tweets_keyword[\"statuses\"]:\n",
    "                    tweet_text=tweet_1['text']\n",
    "                    \n",
    "                    vader_analysis = analyzer.polarity_scores(tweet_text)\n",
    "                    compound=vader_analysis['compound']\n",
    "                    positive=vader_analysis['pos']\n",
    "                    negative=vader_analysis['neg']\n",
    "                    neutral=vader_analysis['neu']\n",
    "                    \n",
    "                    results = {\n",
    "                   \"Date\":tweet['created_at'], \n",
    "                   \"Keyword\": keyword_to_analyze,\n",
    "                   \"Compound Score\": compound,\n",
    "                   \"Postive Score\": positive,\n",
    "                   \"Neutral Score\": neutral,\n",
    "                   \"Negative Score\": negative,\n",
    "                   \"Tweets Ago\":counter\n",
    "                    }\n",
    "                    counter=counter-1\n",
    "                    appended_results.append(results)\n",
    "                    oldest_tweet=tweet_1['id']-1\n",
    "        \n",
    "            analysis_plot(appended_results)\n",
    "            #api.update_with_media(\"Analysis.png\",f\"New Tweet Analysis: {keyword_to_analyze}(Requested by @{tweet_author})\",in_reply_to_status_id=tweet_id)\n",
    "    \n",
    "        elif (tweet_author,keyword_to_analyze) in Tuple_screenname_tweettarget:\n",
    "            print(\"Already analyzed\")\n",
    "    \n",
    "    #unless u mention the user name with @ symbol, it doesnt refelect in replying    "
   ]
  },
  {
   "cell_type": "code",
   "execution_count": 27,
   "metadata": {},
   "outputs": [],
   "source": [
    "def analysis_plot(appended_results):\n",
    "    \n",
    "    df=pd.DataFrame(appended_results)\n",
    "    y_axis=df[\"Compound Score\"]\n",
    "    x_axis=df[\"Tweets Ago\"]\n",
    "    x_axis_max=np.max(x_axis)\n",
    "    x_axis_min=np.min(x_axis)\n",
    "    \n",
    "    plt.plot(x_axis,y_axis,marker='o', linewidth=0.5,label=\"Tweets\" + \"\\n\"+ df['Keyword'][2],color=\"brown\")\n",
    "    plt.legend(loc='upper left', bbox_to_anchor=(1, 0.9),mode=\"Extended\")\n",
    "    now=datetime.now()\n",
    "    now=now.strftime(\"%Y-%m-%d %H:%M\")\n",
    "    plt.xlim(x_axis_min, x_axis_max)\n",
    "    plt.xlabel(\"Tweets Ago\")\n",
    "    plt.ylabel(\"Tweet Polarity\")\n",
    "    plt.title(f\"Sentiment Analysis of tweets ({now})\")\n",
    "    plt.grid()\n",
    "    plt.savefig(\"Analysis.png\", bbox_inches='tight')\n",
    "    "
   ]
  },
  {
   "cell_type": "code",
   "execution_count": 28,
   "metadata": {},
   "outputs": [
    {
     "name": "stdout",
     "output_type": "stream",
     "text": [
      "{'created_at': 'Tue Apr 10 21:30:14 +0000 2018', 'id': 983819470815739904, 'id_str': '983819470815739904', 'text': '@PlotBot Analyze: @CNN', 'truncated': False, 'entities': {'hashtags': [], 'symbols': [], 'user_mentions': [{'screen_name': 'plotbot', 'name': 'Plotbot', 'id': 17582138, 'id_str': '17582138', 'indices': [0, 8]}, {'screen_name': 'CNN', 'name': 'CNN', 'id': 759251, 'id_str': '759251', 'indices': [18, 22]}], 'urls': []}, 'metadata': {'iso_language_code': 'en', 'result_type': 'recent'}, 'source': '<a href=\"http://twitter.com\" rel=\"nofollow\">Twitter Web Client</a>', 'in_reply_to_status_id': None, 'in_reply_to_status_id_str': None, 'in_reply_to_user_id': 17582138, 'in_reply_to_user_id_str': '17582138', 'in_reply_to_screen_name': 'plotbot', 'user': {'id': 13293552, 'id_str': '13293552', 'name': 'Cha Lee', 'screen_name': 'Chuckde3zy', 'location': '', 'description': \"People never get the flowers while they could still smell 'em.\", 'url': None, 'entities': {'description': {'urls': []}}, 'protected': False, 'followers_count': 27, 'friends_count': 162, 'listed_count': 0, 'created_at': 'Sat Feb 09 21:41:29 +0000 2008', 'favourites_count': 37, 'utc_offset': -28800, 'time_zone': 'Alaska', 'geo_enabled': False, 'verified': False, 'statuses_count': 19, 'lang': 'en', 'contributors_enabled': False, 'is_translator': False, 'is_translation_enabled': False, 'profile_background_color': 'C0DEED', 'profile_background_image_url': 'http://abs.twimg.com/images/themes/theme1/bg.png', 'profile_background_image_url_https': 'https://abs.twimg.com/images/themes/theme1/bg.png', 'profile_background_tile': False, 'profile_image_url': 'http://abs.twimg.com/sticky/default_profile_images/default_profile_normal.png', 'profile_image_url_https': 'https://abs.twimg.com/sticky/default_profile_images/default_profile_normal.png', 'profile_link_color': '1DA1F2', 'profile_sidebar_border_color': 'C0DEED', 'profile_sidebar_fill_color': 'DDEEF6', 'profile_text_color': '333333', 'profile_use_background_image': True, 'has_extended_profile': False, 'default_profile': True, 'default_profile_image': True, 'following': False, 'follow_request_sent': False, 'notifications': False, 'translator_type': 'none'}, 'geo': None, 'coordinates': None, 'place': None, 'contributors': None, 'is_quote_status': False, 'retweet_count': 0, 'favorite_count': 0, 'favorited': False, 'retweeted': False, 'lang': 'en'}\n",
      "Already analyzed\n"
     ]
    }
   ],
   "source": [
    "counter_2= 0\n",
    "while(True):\n",
    "    sentiment_analyse()\n",
    "    counter_2 = counter_2 + 1\n",
    "    time.sleep(300)\n",
    "    "
   ]
  },
  {
   "cell_type": "code",
   "execution_count": null,
   "metadata": {},
   "outputs": [],
   "source": []
  }
 ],
 "metadata": {
  "kernelspec": {
   "display_name": "Python 3",
   "language": "python",
   "name": "python3"
  },
  "language_info": {
   "codemirror_mode": {
    "name": "ipython",
    "version": 3
   },
   "file_extension": ".py",
   "mimetype": "text/x-python",
   "name": "python",
   "nbconvert_exporter": "python",
   "pygments_lexer": "ipython3",
   "version": "3.6.4"
  }
 },
 "nbformat": 4,
 "nbformat_minor": 2
}
